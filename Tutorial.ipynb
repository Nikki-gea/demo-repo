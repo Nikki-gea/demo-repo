{
 "cells": [
  {
   "cell_type": "markdown",
   "id": "fb81f2d6",
   "metadata": {},
   "source": [
    "First we import all necessary libraries"
   ]
  },
  {
   "cell_type": "code",
   "execution_count": 2,
   "id": "cef66f59-d950-41f4-9017-c16b9b41be14",
   "metadata": {},
   "outputs": [],
   "source": [
    "import plotly.express as px\n",
    "import pandas as pd\n",
    "import plotly.graph_objs as go\n",
    "import chart_studio.plotly as py\n",
    "import dash\n",
    "import dash_core_components as dcc\n",
    "import dash_html_components as html\n",
    "from dash.dependencies import Input, Output\n",
    "from dash import dash_table"
   ]
  },
  {
   "cell_type": "code",
   "execution_count": 3,
   "id": "6aeb1fb3",
   "metadata": {},
   "outputs": [
    {
     "name": "stdout",
     "output_type": "stream",
     "text": [
      "Index(['country', 'iso_alpha3', 'year', 'internet daily', 'did online course',\n",
      "       'internet at least once/week', 'id'],\n",
      "      dtype='object')\n"
     ]
    }
   ],
   "source": [
    "# Import the cleaned data (importing csv into pandas)\n",
    "df = pd.read_csv(\"internet_cleaned.csv\")\n",
    "df = df[df['year'] == 2019]\n",
    "\n",
    "# Creating an ID column name gives us more interactive capabilities\n",
    "df['id'] = df['iso_alpha3']\n",
    "df.set_index('id', inplace=True, drop=False)\n",
    "print(df.columns)"
   ]
  },
  {
   "cell_type": "code",
   "execution_count": null,
   "id": "44dcb164",
   "metadata": {},
   "outputs": [],
   "source": [
    "# App layout\n",
    "app = dash.Dash(__name__, prevent_initial_callbacks=True) # this was introduced in Dash version 1.12.0\n",
    "\n",
    "# Sorting operators (https://dash.plotly.com/datatable/filtering)\n",
    "app.layout = html.Div([\n",
    "    dash_table.DataTable(\n",
    "        id='datatable-interactivity',\n",
    "        columns=[\n",
    "            {\"name\": i, \"id\": i, \"deletable\": True, \"selectable\": True, \"hideable\": True}\n",
    "            # only a few columns in our data table are hideable\n",
    "            if i == \"iso_alpha3\" or i == \"year\" or i == \"id\"\n",
    "            else {\"name\": i, \"id\": i, \"deletable\": True, \"selectable\": True}\n",
    "            for i in df.columns\n",
    "        ],\n",
    "        data=df.to_dict('records'),  # the contents of the table\n",
    "        editable=True,              # allow editing of data inside all cells\n",
    "        filter_action=\"native\",     # allow filtering of data by user ('native') or not ('none')\n",
    "        sort_action=\"native\",       # enables data to be sorted per-column by user or not ('none')\n",
    "        sort_mode=\"single\",         # sort across 'multi' or 'single' columns\n",
    "        column_selectable=\"multi\",  # allow users to select 'multi' or 'single' columns\n",
    "        row_selectable=\"multi\",     # allow users to select 'multi' or 'single' rows\n",
    "        row_deletable=True,         # choose if user can delete a row (True) or not (False)\n",
    "        selected_columns=[],        # ids of columns that user selects\n",
    "        selected_rows=[],           # indices of rows that user selects\n",
    "        page_action=\"native\",       # all data is passed to the table up-front or not ('none')\n",
    "        page_current=0,             # page number that user is on\n",
    "        page_size=6,                # number of rows visible per page\n",
    "        style_cell={                # ensure adequate header width when text is shorter than cell's text\n",
    "            'minWidth': 95, 'maxWidth': 95, 'width': 95\n",
    "        },\n",
    "        style_cell_conditional=[    # align text columns to left. By default they are aligned to right\n",
    "            {\n",
    "                'if': {'column_id': c},\n",
    "                'textAlign': 'left'\n",
    "            } for c in ['country', 'iso_alpha3']\n",
    "        ],\n",
    "        style_data={                # overflow cells' content into multiple lines\n",
    "            'whiteSpace': 'normal',\n",
    "            'height': 'auto'\n",
    "        }\n",
    "    ),\n",
    "\n",
    "    html.Br(),\n",
    "    html.Br(),\n",
    "    html.Div(id='bar-container'),\n",
    "    html.Div(id='choromap-container')\n",
    "\n",
    "])"
   ]
  },
  {
   "cell_type": "code",
   "execution_count": null,
   "id": "fe0124a0",
   "metadata": {},
   "outputs": [],
   "source": [
    "@app.callback(\n",
    "    Output(component_id='bar-container', component_property='children'),\n",
    "    [Input(component_id='datatable-interactivity', component_property=\"derived_virtual_data\"),\n",
    "     Input(component_id='datatable-interactivity', component_property='derived_virtual_selected_rows'),\n",
    "     Input(component_id='datatable-interactivity', component_property='derived_virtual_selected_row_ids'),\n",
    "     Input(component_id='datatable-interactivity', component_property='selected_rows'),\n",
    "     Input(component_id='datatable-interactivity', component_property='derived_virtual_indices'),\n",
    "     Input(component_id='datatable-interactivity', component_property='derived_virtual_row_ids'),\n",
    "     Input(component_id='datatable-interactivity', component_property='active_cell'),\n",
    "     Input(component_id='datatable-interactivity', component_property='selected_cells')]\n",
    ")\n",
    "def update_bar(all_rows_data, slctd_row_indices, slct_rows_names, slctd_rows,\n",
    "               order_of_rows_indices, order_of_rows_names, actv_cell, slctd_cell):\n",
    "    print('***************************************************************************')\n",
    "    print('Data across all pages pre or post filtering: {}'.format(all_rows_data))\n",
    "    print('---------------------------------------------')\n",
    "    print(\"Indices of selected rows if part of table after filtering:{}\".format(slctd_row_indices))\n",
    "    print(\"Names of selected rows if part of table after filtering: {}\".format(slct_rows_names))\n",
    "    print(\"Indices of selected rows regardless of filtering results: {}\".format(slctd_rows))\n",
    "    print('---------------------------------------------')\n",
    "    print(\"Indices of all rows pre or post filtering: {}\".format(order_of_rows_indices))\n",
    "    print(\"Names of all rows pre or post filtering: {}\".format(order_of_rows_names))\n",
    "    print(\"---------------------------------------------\")\n",
    "    print(\"Complete data of active cell: {}\".format(actv_cell))\n",
    "    print(\"Complete data of all selected cells: {}\".format(slctd_cell))\n",
    "\n",
    "    dff = pd.DataFrame(all_rows_data)\n",
    "\n",
    "    # used to highlight selected countries on bar chart\n",
    "    colors = ['#7FDBFF' if i in slctd_row_indices else '#0074D9'\n",
    "              for i in range(len(dff))]\n",
    "\n",
    "    if \"country\" in dff and \"did online course\" in dff:\n",
    "        return [\n",
    "            dcc.Graph(id='bar-chart',\n",
    "                      figure=px.bar(\n",
    "                          data_frame=dff,\n",
    "                          x=\"country\",\n",
    "                          y='did online course',\n",
    "                          labels={\"did online course\": \"% of Pop took online course\"}\n",
    "                      ).update_layout(showlegend=False, xaxis={'categoryorder': 'total ascending'})\n",
    "                      .update_traces(marker_color=colors, hovertemplate=\"<b>%{y}%</b><extra></extra>\")\n",
    "                      )\n",
    "        ]"
   ]
  },
  {
   "cell_type": "code",
   "execution_count": null,
   "id": "7e309ccc",
   "metadata": {},
   "outputs": [],
   "source": [
    "@app.callback(\n",
    "    Output(component_id='choromap-container', component_property='children'),\n",
    "    [Input(component_id='datatable-interactivity', component_property=\"derived_virtual_data\"),\n",
    "     Input(component_id='datatable-interactivity', component_property='derived_virtual_selected_rows')]\n",
    ")\n",
    "def update_map(all_rows_data, slctd_row_indices):\n",
    "    dff = pd.DataFrame(all_rows_data)\n",
    "\n",
    "    # highlight selected countries on map\n",
    "    borders = [5 if i in slctd_row_indices else 1\n",
    "               for i in range(len(dff))]\n",
    "\n",
    "    if \"iso_alpha3\" in dff and \"internet daily\" in dff and \"country\" in dff:\n",
    "        return [\n",
    "            dcc.Graph(id='choropleth',\n",
    "                      style={'height': 700},\n",
    "                      figure=px.choropleth(\n",
    "                          data_frame=dff,\n",
    "                          locations=\"iso_alpha3\",\n",
    "                          scope=\"europe\",\n",
    "                          color=\"internet daily\",\n",
    "                          title=\"% of Pop that Uses Internet Daily\",\n",
    "                          template='plotly_dark',\n",
    "                          hover_data=['country', 'internet daily'],\n",
    "                      ).update_layout(showlegend=False, title=dict(font=dict(size=28), x=0.5, xanchor='center'))\n",
    "                      .update_traces(marker_line_width=borders, hovertemplate=\"<b>%{customdata[0]}</b><br><br>\" +\n",
    "                                                                              \"%{customdata[1]}\" + \"%\")\n",
    "                      )\n",
    "        ]\n"
   ]
  },
  {
   "cell_type": "code",
   "execution_count": null,
   "id": "a263f0eb",
   "metadata": {},
   "outputs": [],
   "source": [
    "@app.callback(\n",
    "    Output('datatable-interactivity', 'style_data_conditional'),\n",
    "    [Input('datatable-interactivity', 'selected_columns')]\n",
    ")\n",
    "def update_styles(selected_columns):\n",
    "    return [{\n",
    "        'if': {'column_id': i},\n",
    "        'background_color': '#D2F3FF'\n",
    "    } for i in selected_columns]\n"
   ]
  },
  {
   "cell_type": "code",
   "execution_count": null,
   "id": "dea54197",
   "metadata": {},
   "outputs": [],
   "source": [
    "if __name__ == '__main__':\n",
    "    app.run_server(debug=True)\n",
    "    \n",
    "    "
   ]
  }
 ],
 "metadata": {
  "kernelspec": {
   "display_name": "Python 3 (ipykernel)",
   "language": "python",
   "name": "python3"
  },
  "language_info": {
   "codemirror_mode": {
    "name": "ipython",
    "version": 3
   },
   "file_extension": ".py",
   "mimetype": "text/x-python",
   "name": "python",
   "nbconvert_exporter": "python",
   "pygments_lexer": "ipython3",
   "version": "3.9.7"
  }
 },
 "nbformat": 4,
 "nbformat_minor": 5
}
